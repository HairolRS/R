{
 "cells": [
  {
   "cell_type": "markdown",
   "metadata": {},
   "source": [
    "# ggplot2"
   ]
  },
  {
   "cell_type": "markdown",
   "metadata": {},
   "source": [
    "R can produce high quality graphics using the ggplot2 package. The \"gg\" portion of the name comes from Leland Wilkinson's book *The Grammar of Graphics*, which is considered a classic in the field.\n",
    "\n",
    "We'll explore scatter plots in detail to give you a feel for how ggplot2 works and then touch briefly on some other graphing and plotting methods."
   ]
  },
  {
   "cell_type": "code",
   "execution_count": null,
   "metadata": {},
   "outputs": [],
   "source": [
    "require(\"ggplot2\")"
   ]
  },
  {
   "cell_type": "markdown",
   "metadata": {},
   "source": [
    "The learning curve for ggplot2 can be a little steeper than for some other plotting packages, but once you've mastered the fundamentals you'll appreciate the power of ggplot2. Two key points to keep in mind:\n",
    "\n",
    "+ ggplot2 works on data frames\n",
    "+ plots can be built up by adding successive layers\n",
    "\n",
    "Let's revisit the mtcars data set and the relationship between horsepower (hp) and fuel efficiency (mpg)"
   ]
  },
  {
   "cell_type": "code",
   "execution_count": null,
   "metadata": {},
   "outputs": [],
   "source": [
    "head(mtcars,3)"
   ]
  },
  {
   "cell_type": "markdown",
   "metadata": {},
   "source": [
    "We'll start by making a simple scatter plot, but first we'll use the options function to set the graphs to a convenient size. "
   ]
  },
  {
   "cell_type": "code",
   "execution_count": null,
   "metadata": {},
   "outputs": [],
   "source": [
    "options(repr.plot.width=4, repr.plot.height=3)"
   ]
  },
  {
   "cell_type": "code",
   "execution_count": null,
   "metadata": {},
   "outputs": [],
   "source": [
    "g <- ggplot(mtcars, aes(x=hp, y=mpg)) + geom_point()\n",
    "plot(g)"
   ]
  },
  {
   "cell_type": "markdown",
   "metadata": {},
   "source": [
    "A few comments on the previous cell\n",
    "\n",
    "+ Note that we saved the plot as 'g' and then displayed using plot. We can go back later and add additional layers to g\n",
    "+ The dataframe is the first argument to ggplot and we used an aesthetic mapping (aes) so that the hp and mpg columns serve as the x and y data\n",
    "+ geom_point() adds the scatter plot layer to the graph"
   ]
  },
  {
   "cell_type": "markdown",
   "metadata": {},
   "source": [
    "Starting with our previously saved plot, we can add another layer that contains a title, subtitle, x-axis label and y-axis label"
   ]
  },
  {
   "cell_type": "code",
   "execution_count": null,
   "metadata": {},
   "outputs": [],
   "source": [
    "g <- g + labs(title=\"HP vs. MPG\", subtitle=\"Exploring relationship between power and efficiency\", \n",
    "              x=\"Horsepower\", y=\"Miles per gallon\")\n",
    "plot(g)"
   ]
  },
  {
   "cell_type": "markdown",
   "metadata": {},
   "source": [
    "## A brief digression - getting math formatting into figures"
   ]
  },
  {
   "cell_type": "markdown",
   "metadata": {},
   "source": [
    "Unlike Python's matplotlib, ggplot2 doesn't have a convenient way of formatting math equations and special characters using LaTeX syntax. Instead it provides some limited functionality using the expression function as demonstrated below for the x and y axis labels."
   ]
  },
  {
   "cell_type": "code",
   "execution_count": null,
   "metadata": {},
   "outputs": [],
   "source": [
    "g <- g + labs(title=\"HP vs. MPG\", subtitle=\"Exploring relationship between power and efficiency\", \n",
    "              x=expression(Omega + lambda^2), y=expression(alpha - beta))\n",
    "plot(g)"
   ]
  },
  {
   "cell_type": "markdown",
   "metadata": {},
   "source": [
    "## A second brief digression - writing R statements over multiple lines"
   ]
  },
  {
   "cell_type": "markdown",
   "metadata": {},
   "source": [
    "R has a clever way of handling code that runs over several lines. If no more arguments are required and all open parentheses are matched with closing parenthesis, R will consider the expression complete. Therefore, we can write multiline expressions by placing operators at the end of the line and/or making sure that closing parentheses are needed. We demonstrate this below, but note that we've already been taking advantage of this feature."
   ]
  },
  {
   "cell_type": "code",
   "execution_count": null,
   "metadata": {},
   "outputs": [],
   "source": [
    "g <- ggplot(mtcars, aes(x=hp, y=mpg)) + \n",
    "geom_point() + \n",
    "labs(title=\"HP vs. MPG\", \n",
    "    subtitle=\"Exploring relationship between power and efficiency\", \n",
    "    x=\"Horsepower\", \n",
    "    y=\"Miles per gallon\")\n",
    "\n",
    "plot(g)"
   ]
  },
  {
   "cell_type": "markdown",
   "metadata": {},
   "source": [
    "## Changing the marker colors, shapes, sizes and alphas"
   ]
  },
  {
   "cell_type": "markdown",
   "metadata": {},
   "source": [
    "The marker properties can be specified in the geom_point function. For reasons I don't fully understand, shapes are defined by numbers rather than meaningful names (see following for list of shapes http://www.cookbook-r.com/Graphs/Shapes_and_line_types/)"
   ]
  },
  {
   "cell_type": "code",
   "execution_count": null,
   "metadata": {},
   "outputs": [],
   "source": [
    "g <- ggplot(mtcars, aes(x=hp, y=mpg)) + \n",
    "geom_point(col=\"blue\", size=3, shape=17, alpha=0.5)\n",
    "\n",
    "plot(g)"
   ]
  },
  {
   "cell_type": "markdown",
   "metadata": {},
   "source": [
    "The geom_point function also lets you vary the symbols properties based on the value of another column. Below, we color the markers according to the value of the cylinder column and the shape using the weight (wt) column. We first convert the cylinder column from a numeric value to a factor so that it will be treated as categorical data."
   ]
  },
  {
   "cell_type": "code",
   "execution_count": null,
   "metadata": {},
   "outputs": [],
   "source": [
    "g <- ggplot(mtcars, aes(x=hp, y=mpg)) + \n",
    "geom_point(aes(size = wt, color = factor(cyl)), alpha=0.8)\n",
    "\n",
    "plot(g)"
   ]
  },
  {
   "cell_type": "markdown",
   "metadata": {},
   "source": [
    "## Changing the axis limits"
   ]
  },
  {
   "cell_type": "markdown",
   "metadata": {},
   "source": [
    "Axis limits are set using the coord_cartesion function"
   ]
  },
  {
   "cell_type": "code",
   "execution_count": null,
   "metadata": {},
   "outputs": [],
   "source": [
    "g <- ggplot(mtcars, aes(x=hp, y=mpg)) + \n",
    "geom_point(aes(size = wt, color = factor(cyl)), alpha=0.8) +\n",
    "coord_cartesian(xlim=c(0,400), ylim=c(0, 35))\n",
    "\n",
    "plot(g)"
   ]
  },
  {
   "cell_type": "markdown",
   "metadata": {},
   "source": [
    "## Changing the color palettes"
   ]
  },
  {
   "cell_type": "markdown",
   "metadata": {},
   "source": [
    "The RColorBrewer contains a collecion of color palettes. More information on these palettes can be found here https://moderndata.plot.ly/create-colorful-graphs-in-r-with-rcolorbrewer-and-plotly/.\n",
    "\n",
    "To set the color palette, use the scale_colour_brewer function."
   ]
  },
  {
   "cell_type": "code",
   "execution_count": null,
   "metadata": {},
   "outputs": [],
   "source": [
    "library(RColorBrewer)\n",
    "\n",
    "g <- ggplot(mtcars, aes(x=hp, y=mpg)) + \n",
    "geom_point(aes(size = wt, color = factor(cyl)), alpha=0.8) +\n",
    "coord_cartesian(xlim=c(0,400), ylim=c(0, 35)) +\n",
    "scale_colour_brewer(palette = \"Dark2\")\n",
    "\n",
    "plot(g)"
   ]
  },
  {
   "cell_type": "code",
   "execution_count": null,
   "metadata": {},
   "outputs": [],
   "source": []
  }
 ],
 "metadata": {
  "kernelspec": {
   "display_name": "R",
   "language": "R",
   "name": "ir"
  },
  "language_info": {
   "codemirror_mode": "r",
   "file_extension": ".r",
   "mimetype": "text/x-r-source",
   "name": "R",
   "pygments_lexer": "r",
   "version": "3.3.2"
  }
 },
 "nbformat": 4,
 "nbformat_minor": 2
}
