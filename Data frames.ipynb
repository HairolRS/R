{
 "cells": [
  {
   "cell_type": "markdown",
   "metadata": {},
   "source": [
    "# Data frames"
   ]
  },
  {
   "cell_type": "markdown",
   "metadata": {},
   "source": [
    "In this tutorial we'll explore data frames, the primary object in many data analytics and machine learning applications. We'll start with one of R's built-in data frames, mtcars."
   ]
  },
  {
   "cell_type": "markdown",
   "metadata": {},
   "source": [
    "## Basics"
   ]
  },
  {
   "cell_type": "code",
   "execution_count": null,
   "metadata": {},
   "outputs": [],
   "source": [
    "mtcars"
   ]
  },
  {
   "cell_type": "markdown",
   "metadata": {},
   "source": [
    "Instead of dumping the entire contents of the data frame, we can display the first or last rows using the head and tail functions, respectively. With a single argument, the name of the data frame, these functions return the header plus six rows of data. By adding a second optional argument, we can specify the number of rows."
   ]
  },
  {
   "cell_type": "code",
   "execution_count": null,
   "metadata": {},
   "outputs": [],
   "source": [
    "head(mtcars)"
   ]
  },
  {
   "cell_type": "code",
   "execution_count": null,
   "metadata": {},
   "outputs": [],
   "source": [
    "tail(mtcars,3)"
   ]
  },
  {
   "cell_type": "markdown",
   "metadata": {},
   "source": [
    "The row names are returned using the rownames function"
   ]
  },
  {
   "cell_type": "code",
   "execution_count": null,
   "metadata": {},
   "outputs": [],
   "source": [
    "rownames(mtcars)"
   ]
  },
  {
   "cell_type": "markdown",
   "metadata": {},
   "source": [
    "The number of rows and columns can be returned using the nrow and ncol functions."
   ]
  },
  {
   "cell_type": "code",
   "execution_count": null,
   "metadata": {},
   "outputs": [],
   "source": [
    "nrow(mtcars)"
   ]
  },
  {
   "cell_type": "code",
   "execution_count": null,
   "metadata": {},
   "outputs": [],
   "source": [
    "ncol(mtcars)"
   ]
  },
  {
   "cell_type": "markdown",
   "metadata": {},
   "source": [
    "The contents of a cell can be accessed by the row and column indexes or names. Note that the pair is comma separated and enclosed by square brackets and we can mix or match indexes and names."
   ]
  },
  {
   "cell_type": "code",
   "execution_count": null,
   "metadata": {},
   "outputs": [],
   "source": [
    "mtcars[6,4]"
   ]
  },
  {
   "cell_type": "code",
   "execution_count": null,
   "metadata": {},
   "outputs": [],
   "source": [
    "mtcars[\"Valiant\", \"hp\"]"
   ]
  },
  {
   "cell_type": "code",
   "execution_count": null,
   "metadata": {},
   "outputs": [],
   "source": [
    "mtcars[\"Valiant\", 4]"
   ]
  },
  {
   "cell_type": "code",
   "execution_count": null,
   "metadata": {},
   "outputs": [],
   "source": [
    "mtcars[6, \"hp\"]"
   ]
  },
  {
   "cell_type": "markdown",
   "metadata": {},
   "source": [
    "## Column operations"
   ]
  },
  {
   "cell_type": "markdown",
   "metadata": {},
   "source": [
    "The contents of a column can be returned by index/name enclosed in double square brackets, the dollar (\\$) operator or the index/name following a comma in single square brackets. In this last option, the missing argument before the comma represents a wildcard."
   ]
  },
  {
   "cell_type": "code",
   "execution_count": null,
   "metadata": {},
   "outputs": [],
   "source": [
    "mtcars[[\"wt\"]]"
   ]
  },
  {
   "cell_type": "code",
   "execution_count": null,
   "metadata": {},
   "outputs": [],
   "source": [
    "mtcars[[6]]"
   ]
  },
  {
   "cell_type": "code",
   "execution_count": null,
   "metadata": {},
   "outputs": [],
   "source": [
    "mtcars$wt"
   ]
  },
  {
   "cell_type": "code",
   "execution_count": null,
   "metadata": {},
   "outputs": [],
   "source": [
    "mtcars[,\"wt\"]"
   ]
  },
  {
   "cell_type": "markdown",
   "metadata": {},
   "source": [
    "The usual list functions can be applied to a column."
   ]
  },
  {
   "cell_type": "code",
   "execution_count": null,
   "metadata": {},
   "outputs": [],
   "source": [
    "max(mtcars$wt)"
   ]
  },
  {
   "cell_type": "code",
   "execution_count": null,
   "metadata": {},
   "outputs": [],
   "source": [
    "sum(mtcars$wt)"
   ]
  },
  {
   "cell_type": "markdown",
   "metadata": {},
   "source": [
    "## Slices"
   ]
  },
  {
   "cell_type": "markdown",
   "metadata": {},
   "source": [
    "One of the key data frame operations is generating slices by column, row or a combination of the two."
   ]
  },
  {
   "cell_type": "markdown",
   "metadata": {},
   "source": [
    "### Column slices"
   ]
  },
  {
   "cell_type": "markdown",
   "metadata": {},
   "source": [
    "Acessing a column by index or name using single square brackets returns a \"column slice\" of the data frame. A slice containing multiple columns can be created using a vector of indexes or names and the result can be assigned to a new data frame."
   ]
  },
  {
   "cell_type": "code",
   "execution_count": null,
   "metadata": {},
   "outputs": [],
   "source": [
    "head(mtcars[\"hp\"])"
   ]
  },
  {
   "cell_type": "code",
   "execution_count": null,
   "metadata": {},
   "outputs": [],
   "source": [
    "df1 <- mtcars[c(\"mpg\", \"cyl\", \"wt\", \"carb\")]"
   ]
  },
  {
   "cell_type": "code",
   "execution_count": null,
   "metadata": {},
   "outputs": [],
   "source": [
    "head(df1)"
   ]
  },
  {
   "cell_type": "markdown",
   "metadata": {},
   "source": [
    "A column can be removed from a data frame by assigning NULL to the column. In the example below, we remove the \"wt\" column."
   ]
  },
  {
   "cell_type": "code",
   "execution_count": null,
   "metadata": {},
   "outputs": [],
   "source": [
    "df1$wt <- NULL"
   ]
  },
  {
   "cell_type": "code",
   "execution_count": null,
   "metadata": {},
   "outputs": [],
   "source": [
    "head(df1)"
   ]
  },
  {
   "cell_type": "markdown",
   "metadata": {},
   "source": [
    "### Row slices"
   ]
  },
  {
   "cell_type": "markdown",
   "metadata": {},
   "source": [
    "We can generate a \"row slice\" of the data frame by specifying a name, index, vector of names or vector of indexes in single square brackets followed by a comma. The missing argument aftr the comma represents a wildcard."
   ]
  },
  {
   "cell_type": "code",
   "execution_count": null,
   "metadata": {},
   "outputs": [],
   "source": [
    "mtcars[3,]"
   ]
  },
  {
   "cell_type": "code",
   "execution_count": null,
   "metadata": {},
   "outputs": [],
   "source": [
    "mtcars[c(3,5,7),]"
   ]
  },
  {
   "cell_type": "code",
   "execution_count": null,
   "metadata": {},
   "outputs": [],
   "source": [
    "mtcars[c(\"Datsun 710\", \"Duster 360\"),]"
   ]
  },
  {
   "cell_type": "code",
   "execution_count": null,
   "metadata": {},
   "outputs": [],
   "source": [
    "which(mtcars$hp > 200)"
   ]
  },
  {
   "cell_type": "markdown",
   "metadata": {},
   "source": [
    "Row slices can also be generated by filtering on values. In the example below, we select all cars with \"hp\" > 240"
   ]
  },
  {
   "cell_type": "code",
   "execution_count": null,
   "metadata": {},
   "outputs": [],
   "source": [
    "mtcars[which(mtcars$hp > 240),]"
   ]
  },
  {
   "cell_type": "markdown",
   "metadata": {},
   "source": [
    "### Slicing by row and column"
   ]
  },
  {
   "cell_type": "markdown",
   "metadata": {},
   "source": [
    "As you might expect, we can generate arbitrary slices by row and column"
   ]
  },
  {
   "cell_type": "code",
   "execution_count": null,
   "metadata": {},
   "outputs": [],
   "source": [
    "mtcars[c(\"Datsun 710\", \"Duster 360\", \"Valiant\"), c(\"mpg\", \"wt\", \"carb\")]"
   ]
  },
  {
   "cell_type": "markdown",
   "metadata": {},
   "source": [
    "## Extracting information from data frames"
   ]
  },
  {
   "cell_type": "markdown",
   "metadata": {},
   "source": [
    "We already covered the basic functionality of data frames. Let's now explore how we can extract useful information from the data frame. Continuing with the mtcars example, we'll ask questions such as \"what is the highest mpg achieved by a car in our data frame?\" and \"which car has the highest weight (wt)?\""
   ]
  },
  {
   "cell_type": "markdown",
   "metadata": {},
   "source": [
    "Getting statistics from a column is easy and we've seen earlier. A few more examples are shown below."
   ]
  },
  {
   "cell_type": "code",
   "execution_count": null,
   "metadata": {},
   "outputs": [],
   "source": [
    "max(mtcars$mpg) # Highest miles per gallon (mpg)"
   ]
  },
  {
   "cell_type": "code",
   "execution_count": null,
   "metadata": {},
   "outputs": [],
   "source": [
    "min(mtcars$cyl) # Lowest number of cylinders (cyl)"
   ]
  },
  {
   "cell_type": "code",
   "execution_count": null,
   "metadata": {},
   "outputs": [],
   "source": [
    "mean(mtcars$hp) # Averge horsepower (hp)"
   ]
  },
  {
   "cell_type": "markdown",
   "metadata": {},
   "source": [
    "Asking questions such as \"which car has the highest weight?\" is a little trickier. We'll break this down into a few steps."
   ]
  },
  {
   "cell_type": "code",
   "execution_count": null,
   "metadata": {},
   "outputs": [],
   "source": [
    "which.max(mtcars$wt) # Return the row number of the car with the highest weight"
   ]
  },
  {
   "cell_type": "code",
   "execution_count": null,
   "metadata": {},
   "outputs": [],
   "source": [
    "mtcars[which.max(mtcars$wt),] # Return a row slice of the car with the highest weight"
   ]
  },
  {
   "cell_type": "code",
   "execution_count": null,
   "metadata": {},
   "outputs": [],
   "source": [
    "rownames(mtcars[which.max(mtcars$wt),]) # Extract the row name using the rownames function"
   ]
  },
  {
   "cell_type": "markdown",
   "metadata": {},
   "source": [
    "Let's now look at a slightly more complex example - \"which car has the lowest horsepower (hp) to weight (wt) ratio?\""
   ]
  },
  {
   "cell_type": "code",
   "execution_count": null,
   "metadata": {},
   "outputs": [],
   "source": [
    "rownames(mtcars[which.min(mtcars$hp/mtcars$wt),])"
   ]
  },
  {
   "cell_type": "markdown",
   "metadata": {},
   "source": [
    "## Sorting data frames"
   ]
  },
  {
   "cell_type": "markdown",
   "metadata": {},
   "source": [
    "Data frames can be sorted on one or more columns using the order function. To do a reverse sort, prepend the column with a minus sign. In the example below, we sort the mtcars data frame by number of cylinder (cyl), ascending, and then by horse power (hp), descending. Note that the missing argument after the comma in the square brackets operator is interpreted as a wildcard."
   ]
  },
  {
   "cell_type": "code",
   "execution_count": null,
   "metadata": {},
   "outputs": [],
   "source": [
    "mtcars[order(mtcars$cyl, -mtcars$hp),]"
   ]
  },
  {
   "cell_type": "markdown",
   "metadata": {},
   "source": [
    "## Constructing a data frame"
   ]
  },
  {
   "cell_type": "markdown",
   "metadata": {},
   "source": [
    "So far we've been working with one of R's built-in data frames. We'll now explore how to build a data frame from scratch by calling the data.frame function with one or more vectors."
   ]
  },
  {
   "cell_type": "code",
   "execution_count": null,
   "metadata": {},
   "outputs": [],
   "source": [
    "names <- c('Nancy', 'Mahidhar', 'Mariano', 'Jorge', 'Susan')\n",
    "fruits <- c('apple', 'banana', 'orange', 'lemon', 'pineapple')\n",
    "sports <- c('cycling', 'cricket', 'football', 'basketball', 'swimming')\n",
    "cars <- c('Toyota', 'Dodge', 'BMW', 'Ford', 'Audi')\n",
    "colors <-c('blue', 'green', 'yellow', 'gray', 'red')"
   ]
  },
  {
   "cell_type": "code",
   "execution_count": null,
   "metadata": {},
   "outputs": [],
   "source": [
    "df2 <- data.frame(names, fruits, sports, cars, colors)"
   ]
  },
  {
   "cell_type": "code",
   "execution_count": null,
   "metadata": {},
   "outputs": [],
   "source": [
    "df2"
   ]
  },
  {
   "cell_type": "code",
   "execution_count": null,
   "metadata": {},
   "outputs": [],
   "source": [
    "rownames(df2)"
   ]
  },
  {
   "cell_type": "markdown",
   "metadata": {},
   "source": [
    "By default our data frame does not have row names. We can fix this by either calling data.frame with an additional row.name argument or by assigning one of the columns to be the row name after the data frame has been created."
   ]
  },
  {
   "cell_type": "code",
   "execution_count": null,
   "metadata": {},
   "outputs": [],
   "source": [
    "df2 <- data.frame(fruits, sports, cars, colors, row.names=names)\n",
    "df2"
   ]
  },
  {
   "cell_type": "code",
   "execution_count": null,
   "metadata": {},
   "outputs": [],
   "source": [
    "df2 <- data.frame(fruits, sports, cars, colors)\n",
    "rownames(df2) <- names\n",
    "df2"
   ]
  },
  {
   "cell_type": "markdown",
   "metadata": {},
   "source": [
    "## Reading a data frame from a file"
   ]
  },
  {
   "cell_type": "markdown",
   "metadata": {},
   "source": [
    "Most often, you'll read your data frame from a file. R provides a functions for handling CSV, Excel and other formats"
   ]
  },
  {
   "cell_type": "code",
   "execution_count": 3,
   "metadata": {},
   "outputs": [],
   "source": [
    "df3 <- read.csv(\"people.csv\")"
   ]
  },
  {
   "cell_type": "code",
   "execution_count": 4,
   "metadata": {},
   "outputs": [
    {
     "data": {
      "text/html": [
       "<table>\n",
       "<thead><tr><th scope=col>names</th><th scope=col>fruits</th><th scope=col>sports</th><th scope=col>cars</th><th scope=col>colors</th></tr></thead>\n",
       "<tbody>\n",
       "\t<tr><td>Nancy     </td><td>apple     </td><td>cycling   </td><td>Toyota    </td><td>blue      </td></tr>\n",
       "\t<tr><td>Mahidhar  </td><td>banana    </td><td>cricket   </td><td>Dodge     </td><td>green     </td></tr>\n",
       "\t<tr><td>Mariano   </td><td>orange    </td><td>football  </td><td>BMW       </td><td>yellow    </td></tr>\n",
       "\t<tr><td>Jorge     </td><td>lemon     </td><td>basketball</td><td>Ford      </td><td>gray      </td></tr>\n",
       "\t<tr><td>Susan     </td><td>pineapple </td><td>swimming  </td><td>Audi      </td><td>red       </td></tr>\n",
       "\t<tr><td>Ilkay     </td><td>blueberry </td><td>running   </td><td>Saab      </td><td>purple    </td></tr>\n",
       "\t<tr><td>Mike      </td><td>lime      </td><td>hiking    </td><td>Chevy     </td><td>teal      </td></tr>\n",
       "</tbody>\n",
       "</table>\n"
      ],
      "text/latex": [
       "\\begin{tabular}{r|lllll}\n",
       " names & fruits & sports & cars & colors\\\\\n",
       "\\hline\n",
       "\t Nancy      & apple      & cycling    & Toyota     & blue      \\\\\n",
       "\t Mahidhar   & banana     & cricket    & Dodge      & green     \\\\\n",
       "\t Mariano    & orange     & football   & BMW        & yellow    \\\\\n",
       "\t Jorge      & lemon      & basketball & Ford       & gray      \\\\\n",
       "\t Susan      & pineapple  & swimming   & Audi       & red       \\\\\n",
       "\t Ilkay      & blueberry  & running    & Saab       & purple    \\\\\n",
       "\t Mike       & lime       & hiking     & Chevy      & teal      \\\\\n",
       "\\end{tabular}\n"
      ],
      "text/markdown": [
       "\n",
       "names | fruits | sports | cars | colors | \n",
       "|---|---|---|---|---|---|---|\n",
       "| Nancy      | apple      | cycling    | Toyota     | blue       | \n",
       "| Mahidhar   | banana     | cricket    | Dodge      | green      | \n",
       "| Mariano    | orange     | football   | BMW        | yellow     | \n",
       "| Jorge      | lemon      | basketball | Ford       | gray       | \n",
       "| Susan      | pineapple  | swimming   | Audi       | red        | \n",
       "| Ilkay      | blueberry  | running    | Saab       | purple     | \n",
       "| Mike       | lime       | hiking     | Chevy      | teal       | \n",
       "\n",
       "\n"
      ],
      "text/plain": [
       "  names    fruits    sports     cars   colors\n",
       "1 Nancy    apple     cycling    Toyota blue  \n",
       "2 Mahidhar banana    cricket    Dodge  green \n",
       "3 Mariano  orange    football   BMW    yellow\n",
       "4 Jorge    lemon     basketball Ford   gray  \n",
       "5 Susan    pineapple swimming   Audi   red   \n",
       "6 Ilkay    blueberry running    Saab   purple\n",
       "7 Mike     lime      hiking     Chevy  teal  "
      ]
     },
     "metadata": {},
     "output_type": "display_data"
    }
   ],
   "source": [
    "df3"
   ]
  },
  {
   "cell_type": "code",
   "execution_count": null,
   "metadata": {},
   "outputs": [],
   "source": []
  }
 ],
 "metadata": {
  "kernelspec": {
   "display_name": "R",
   "language": "R",
   "name": "ir"
  },
  "language_info": {
   "codemirror_mode": "r",
   "file_extension": ".r",
   "mimetype": "text/x-r-source",
   "name": "R",
   "pygments_lexer": "r",
   "version": "3.3.2"
  }
 },
 "nbformat": 4,
 "nbformat_minor": 2
}
