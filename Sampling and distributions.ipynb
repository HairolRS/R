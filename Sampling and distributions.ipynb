{
 "cells": [
  {
   "cell_type": "markdown",
   "metadata": {},
   "source": [
    "# Sampling and distributions"
   ]
  },
  {
   "cell_type": "markdown",
   "metadata": {},
   "source": [
    "Since R was designed for statistical applications, it contains a rich set of functions for drawing from different distributions. We cover some of the more commonly used functions below.\n",
    "\n",
    "Note - depending on the order of presentations in this series, we may not have yet covered plotting using ggplot2. If so, don't worry about the ggplot2 syntax and just focus on the resulting figures. "
   ]
  },
  {
   "cell_type": "code",
   "execution_count": null,
   "metadata": {},
   "outputs": [],
   "source": [
    "# Importing ggplot2 so that we can visualize results\n",
    "require(\"ggplot2\")\n",
    "require(\"gridExtra\")\n",
    "options(repr.plot.width=5, repr.plot.height=3)"
   ]
  },
  {
   "cell_type": "markdown",
   "metadata": {},
   "source": [
    "## Poisson distribution"
   ]
  },
  {
   "cell_type": "markdown",
   "metadata": {},
   "source": [
    "The Poisson distribution is a discrete distribution that gives the probability of a number of events occuring in a given interval\n",
    "\n",
    "$p(k) = e^{-k} \\frac{\\lambda^{k}}{k!}$, where $\\lambda$ is the average number of events\n",
    "\n",
    "rpois(n, lambda) draws n samples from a Poisson distribution with $\\lambda$ = lambda  \n",
    "dpois(q, lambda) is the probability that sample will have value q"
   ]
  },
  {
   "cell_type": "code",
   "execution_count": null,
   "metadata": {},
   "outputs": [],
   "source": [
    "nsamples = 500\n",
    "lambda = 3\n",
    "\n",
    "poisson_sampling <- rpois(nsamples, lambda)\n",
    "poisson_function <- dpois(seq(0,10), lambda) * nsamples\n",
    "\n",
    "df1 <- data.frame(poisson_sampling)\n",
    "g1 <- ggplot(df1, aes(x=poisson_sampling)) + geom_histogram(col=\"black\", fill=\"blue\", binwidth=1)\n",
    "\n",
    "xvals <- seq(0:10)\n",
    "df2 <- data.frame(xvals, poisson_function)\n",
    "g2 <- ggplot(df2, aes(x=xvals, y=poisson_function)) + geom_line() + geom_point(col=\"blue\")\n",
    "grid.arrange(g1, g2, ncol=2)"
   ]
  },
  {
   "cell_type": "markdown",
   "metadata": {},
   "source": [
    "## Normal distribution"
   ]
  },
  {
   "cell_type": "code",
   "execution_count": null,
   "metadata": {},
   "outputs": [],
   "source": []
  },
  {
   "cell_type": "code",
   "execution_count": null,
   "metadata": {},
   "outputs": [],
   "source": [
    "nsamples = 5000\n",
    "mean = 1\n",
    "sd = 0.75\n",
    "xmin = -3\n",
    "xmax = 5\n",
    "spacing = 0.2\n",
    "\n",
    "normal_sampling <- rnorm(nsamples, mean=mean, sd=sd)\n",
    "xvals <- seq(xmin, xmax, spacing)\n",
    "normal_function <- dnorm(xvals, mean=mean, sd=sd)\n",
    "\n",
    "df1 <- data.frame(normal_sampling)\n",
    "g1 <- ggplot(df1, aes(x=normal_sampling)) + geom_histogram(col=\"black\", fill=\"blue\", binwidth=spacing) +\n",
    "coord_cartesian(xlim=c(xmin, xmax))\n",
    "\n",
    "df2 <- data.frame(xvals, normal_function)\n",
    "g2 <- ggplot(df2, aes(x=xvals, y=normal_function)) + geom_line() + geom_point(col=\"blue\") +\n",
    "coord_cartesian(xlim=c(xmin, xmax))\n",
    "grid.arrange(g1, g2, ncol=2)"
   ]
  },
  {
   "cell_type": "markdown",
   "metadata": {},
   "source": [
    "## Sampling and permutations"
   ]
  },
  {
   "cell_type": "markdown",
   "metadata": {},
   "source": [
    "Many machine learning applications require that we either permute or draw a subsample of the data. This can be done with the sample function. To generate a permutation, we can select all elements without replacement. The examples below illustrates this using the built-in R constant \"letters\""
   ]
  },
  {
   "cell_type": "code",
   "execution_count": null,
   "metadata": {},
   "outputs": [],
   "source": [
    "letters"
   ]
  },
  {
   "cell_type": "code",
   "execution_count": null,
   "metadata": {},
   "outputs": [],
   "source": [
    "# Sampling without replacement\n",
    "for (i in seq(1,5)) {\n",
    "    print(sample(letters, 5))\n",
    "}"
   ]
  },
  {
   "cell_type": "code",
   "execution_count": null,
   "metadata": {},
   "outputs": [],
   "source": [
    "# Sampling with replacement (sorting output to see repeated elements)\n",
    "for (i in seq(1,5)) {\n",
    "    print(sort(sample(letters, 10, replace=TRUE)))\n",
    "}"
   ]
  },
  {
   "cell_type": "code",
   "execution_count": null,
   "metadata": {},
   "outputs": [],
   "source": [
    "# Permutations\n",
    "for (i in seq(1,5)) {\n",
    "    print(sample(letters, length(letters)))\n",
    "}"
   ]
  },
  {
   "cell_type": "code",
   "execution_count": null,
   "metadata": {},
   "outputs": [],
   "source": []
  }
 ],
 "metadata": {
  "kernelspec": {
   "display_name": "R",
   "language": "R",
   "name": "ir"
  },
  "language_info": {
   "codemirror_mode": "r",
   "file_extension": ".r",
   "mimetype": "text/x-r-source",
   "name": "R",
   "pygments_lexer": "r",
   "version": "3.3.2"
  }
 },
 "nbformat": 4,
 "nbformat_minor": 2
}
